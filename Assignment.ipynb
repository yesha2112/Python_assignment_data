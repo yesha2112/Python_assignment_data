{
 "cells": [
  {
   "cell_type": "markdown",
   "id": "190d9f03",
   "metadata": {},
   "source": [
    "Create Plot Using Matplotlib"
   ]
  },
  {
   "cell_type": "markdown",
   "id": "40412aa3",
   "metadata": {},
   "source": [
    "Q1:- Use the given FIFA 19 dataset, containing the detailed attributes for every player registered in the latest edition of FIFA 19 database, to load the data and create a plot between Name and Potential of 10 players."
   ]
  },
  {
   "cell_type": "code",
   "execution_count": null,
   "id": "b9805c1c",
   "metadata": {},
   "outputs": [],
   "source": []
  },
  {
   "cell_type": "markdown",
   "id": "8b30a5c1",
   "metadata": {},
   "source": [
    "Q2:-create a line plot between Name and Sliding Tackle of 10 players. Also, set the axis, labels, and legend property of the plot. "
   ]
  },
  {
   "cell_type": "code",
   "execution_count": null,
   "id": "cc870360",
   "metadata": {},
   "outputs": [],
   "source": []
  },
  {
   "cell_type": "markdown",
   "id": "d218d5bf",
   "metadata": {},
   "source": [
    " Q3:-create a plot of ShotPower of the first ten players. Also, annotate the point of maximum ShotPower."
   ]
  },
  {
   "cell_type": "code",
   "execution_count": null,
   "id": "a0495f33",
   "metadata": {},
   "outputs": [],
   "source": []
  },
  {
   "cell_type": "markdown",
   "id": "16f3056d",
   "metadata": {},
   "source": [
    "# Create Multiple Subplots Using plt.subplots"
   ]
  },
  {
   "cell_type": "markdown",
   "id": "32b575e5",
   "metadata": {},
   "source": [
    "Q4:-Use the given FIFA 19 dataset to create four subplots to analyze the skills like ball control, strength, penalties, and interceptions of ten players. Also, add legend for each plot."
   ]
  },
  {
   "cell_type": "code",
   "execution_count": null,
   "id": "0964030a",
   "metadata": {},
   "outputs": [],
   "source": []
  },
  {
   "cell_type": "markdown",
   "id": "f4489155",
   "metadata": {},
   "source": [
    "### Create a Scatter Plot of Pretest scores and Posttest Scores"
   ]
  },
  {
   "cell_type": "markdown",
   "id": "96654fac",
   "metadata": {},
   "source": [
    "Create a dataframe from following data: \n",
    "'first_name': ['Jason', 'Molly', 'Tina', 'Jake', 'Amy'], \n",
    "'last_name': ['Miller', 'Jacobson', 'Ali', 'Milner', 'Cooze'], \n",
    "'female': [0, 1, 1, 0, 1], \n",
    "'age': [42, 52, 36, 24, 73], \n",
    "'preTestScore': [4, 24, 31, 2, 3],\n",
    "'postTestScore': [25, 94, 57, 62, 70]\n",
    "Draw a Scatterplot of preTestScore and postTestScore, with the size of each point determined by age."
   ]
  },
  {
   "cell_type": "code",
   "execution_count": null,
   "id": "03b93012",
   "metadata": {},
   "outputs": [],
   "source": []
  },
  {
   "cell_type": "markdown",
   "id": "11298c17",
   "metadata": {},
   "source": [
    "# Create a Pie Chart"
   ]
  },
  {
   "cell_type": "markdown",
   "id": "24a1ff12",
   "metadata": {},
   "source": [
    "Use BigMartSalesData.csv to plot a pie chart of the sales of the countries for the year 2011. Find the country which contributes to the highest sales.  "
   ]
  },
  {
   "cell_type": "code",
   "execution_count": null,
   "id": "8510257d",
   "metadata": {},
   "outputs": [],
   "source": []
  }
 ],
 "metadata": {
  "kernelspec": {
   "display_name": "Python 3 (ipykernel)",
   "language": "python",
   "name": "python3"
  },
  "language_info": {
   "codemirror_mode": {
    "name": "ipython",
    "version": 3
   },
   "file_extension": ".py",
   "mimetype": "text/x-python",
   "name": "python",
   "nbconvert_exporter": "python",
   "pygments_lexer": "ipython3",
   "version": "3.11.7"
  }
 },
 "nbformat": 4,
 "nbformat_minor": 5
}
